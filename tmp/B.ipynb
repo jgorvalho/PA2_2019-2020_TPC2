{
 "cells": [
  {
   "cell_type": "markdown",
   "metadata": {},
   "source": [
    "## TPC2 tarefa 2 - Python"
   ]
  },
  {
   "cell_type": "code",
   "execution_count": 13,
   "metadata": {},
   "outputs": [],
   "source": [
    "import csv\n",
    "import numpy as np\n",
    "import pandas as pd\n",
    "pd.set_option('display.min_rows', 20)\n",
    "import matplotlib.pyplot as plt\n",
    "%matplotlib inline"
   ]
  },
  {
   "cell_type": "code",
   "execution_count": 14,
   "metadata": {},
   "outputs": [],
   "source": [
    "# For compatibility across multiple platforms\n",
    "import os\n",
    "IB = os.environ.get('INSTABASE_URI',None) is not None\n",
    "open = ib.open if IB else open"
   ]
  },
  {
   "cell_type": "code",
   "execution_count": null,
   "metadata": {},
   "outputs": [],
   "source": []
  },
  {
   "cell_type": "markdown",
   "metadata": {},
   "source": [
    "### <font color = 'green'>World Cup with Pandas</font>\n",
    "Solve the problems using the data in Pandas dataframes."
   ]
  },
  {
   "cell_type": "code",
   "execution_count": 34,
   "metadata": {},
   "outputs": [],
   "source": [
    "# Read the Players and Teams data into dataframes\n",
    "f = open('Players.csv')\n",
    "playersDF = pd.read_csv(f)\n",
    "f = open('Teams.csv')\n",
    "teamsDF = pd.read_csv(f)"
   ]
  },
  {
   "cell_type": "code",
   "execution_count": 36,
   "metadata": {
    "scrolled": true
   },
   "outputs": [
    {
     "name": "stdout",
     "output_type": "stream",
     "text": [
      "Kuzmanovic\n"
     ]
    }
   ],
   "source": [
    "#Qual jogador (print do ultimo nome) de uma equipa com \"ia\" no nome, \n",
    "#que jogou menos de 200 minutos e fez mais de 100 passes?\n",
    "\n",
    "# Verificar que equipas contêm \"ia\" no nome.\n",
    "Name = playersDF[playersDF.team.str.contains('ia')]\n",
    "# Verificar que jogadores de uma equipa que contêm \"ia\" no nome, jogaram menos de 200 minutos.\n",
    "Name = Name[Name.minutes<200]\n",
    "# Verificar que jogadores de uma equipa que contêm \"ia\" no nome e jogaram menos de 200 minutos, fizeram mais de 100 passes.\n",
    "Name = Name[Name.passes>100]\n",
    "# Imprimir apenas o nome do jogador.\n",
    "print(Name.iloc[0]['surname'])"
   ]
  },
  {
   "cell_type": "code",
   "execution_count": 45,
   "metadata": {},
   "outputs": [
    {
     "name": "stdout",
     "output_type": "stream",
     "text": [
      "Avançados: 50.82517482517483 - Meio-campistas: 95.2719298245614\n"
     ]
    }
   ],
   "source": [
    "# Qual é o número médio de passes feitos pelos avançados? Pelos meio-campistas?\n",
    "# Verifique se a resposta especifica qual é qual e não inclua outras\n",
    "# posições no seu resultado.\n",
    "\n",
    "# Agrupar os jogadores pela sua posição em campo.\n",
    "MPasses = playersDF.groupby('position')\n",
    "# Criar a função da média dos passos.\n",
    "Mean = MPasses['passes'].mean()\n",
    "# Aplicar e imprimir a média dos passos, dependendo da posição do jogador.\n",
    "print('Avançados: {ava} - Meio-campistas: {mid}'.format(ava=Mean.loc['forward'],mid=Mean.loc['midfielder']))"
   ]
  },
  {
   "cell_type": "code",
   "execution_count": 93,
   "metadata": {},
   "outputs": [
    {
     "name": "stdout",
     "output_type": "stream",
     "text": [
      "Brazil\n"
     ]
    }
   ],
   "source": [
    "# Qual equipe tem a maior relação (razão, racio, etc) de goalsFor versus goalsAgainst?\n",
    "# Imprima apenas o nome da equipa.\n",
    "# Dica: adicione uma coluna \"racio\" ao dataframe das equipas e, depois, faça o seu \"sort\" e, \n",
    "# em seguida, use a head(1) ou tail(1) ...\n",
    "\n",
    "# Criar a fórmula para a relação de goalsFor versus goalsAgainst.\n",
    "teamsDF['racio']= teamsDF['goalsFor']/teamsDF['goalsAgainst']\n",
    "# Organizar os valores do mais alto para o mais baixo.\n",
    "teamsDF.sort_values(by='racio', ascending=False)\n",
    "# Selecionar o primeiro valor, já que é o mais alto.\n",
    "strmaior=teamsDF['team'].iloc[0]\n",
    "# Imprimir o nome da equipa com o valor mais alto.\n",
    "print(strmaior)\n"
   ]
  },
  {
   "cell_type": "code",
   "execution_count": 114,
   "metadata": {},
   "outputs": [
    {
     "data": {
      "text/plain": [
       "54"
      ]
     },
     "execution_count": 114,
     "metadata": {},
     "output_type": "execute_result"
    }
   ],
   "source": [
    "# Quantos jogadores que jogam numa equipa com ranking <10, \n",
    "# jogaram mais de 350 minutos?\n",
    "# Lembrete: len() fornece o número de linhas que um dataframe contém\n",
    "\n",
    "# Filtrar as diferentes equipas, selecionando as que têm um ranking inferior a 10.\n",
    "Team = teamsDF[teamsDF.ranking<10]\n",
    "#Criar uma lista para essas equipas.\n",
    "Teamlist = Team['team'].tolist()\n",
    "# Listar os jogadores pertencentes a cada equipa.\n",
    "Player = playersDF[playersDF.team.isin(Teamlist)]\n",
    "#Filtrar os jogadores, selecionando os que jogaram mais de 350 minutos.\n",
    "Player = Player[Player.minutes>350]\n",
    "# Imprimir o número de jogadores requerido.\n",
    "len(Player)"
   ]
  },
  {
   "cell_type": "markdown",
   "metadata": {},
   "source": [
    "### <font color = 'green'>Titanic with Pandas</font>\n",
    "Solve the problems using the data in Pandas dataframe."
   ]
  },
  {
   "cell_type": "code",
   "execution_count": 85,
   "metadata": {
    "collapsed": true
   },
   "outputs": [
    {
     "data": {
      "text/html": [
       "<div>\n",
       "<style scoped>\n",
       "    .dataframe tbody tr th:only-of-type {\n",
       "        vertical-align: middle;\n",
       "    }\n",
       "\n",
       "    .dataframe tbody tr th {\n",
       "        vertical-align: top;\n",
       "    }\n",
       "\n",
       "    .dataframe thead th {\n",
       "        text-align: right;\n",
       "    }\n",
       "</style>\n",
       "<table border=\"1\" class=\"dataframe\">\n",
       "  <thead>\n",
       "    <tr style=\"text-align: right;\">\n",
       "      <th></th>\n",
       "      <th>last</th>\n",
       "      <th>first</th>\n",
       "      <th>gender</th>\n",
       "      <th>age</th>\n",
       "      <th>class</th>\n",
       "      <th>fare</th>\n",
       "      <th>embarked</th>\n",
       "      <th>survived</th>\n",
       "    </tr>\n",
       "  </thead>\n",
       "  <tbody>\n",
       "    <tr>\n",
       "      <th>0</th>\n",
       "      <td>Braund</td>\n",
       "      <td>Mr. Owen Harris</td>\n",
       "      <td>M</td>\n",
       "      <td>22.0</td>\n",
       "      <td>3</td>\n",
       "      <td>7.2500</td>\n",
       "      <td>Southampton</td>\n",
       "      <td>no</td>\n",
       "    </tr>\n",
       "    <tr>\n",
       "      <th>1</th>\n",
       "      <td>Cumings</td>\n",
       "      <td>Mrs. John Bradley (Florence Briggs Thayer)</td>\n",
       "      <td>F</td>\n",
       "      <td>38.0</td>\n",
       "      <td>1</td>\n",
       "      <td>71.2833</td>\n",
       "      <td>Cherbourg</td>\n",
       "      <td>yes</td>\n",
       "    </tr>\n",
       "    <tr>\n",
       "      <th>2</th>\n",
       "      <td>Heikkinen</td>\n",
       "      <td>Miss Laina</td>\n",
       "      <td>F</td>\n",
       "      <td>26.0</td>\n",
       "      <td>3</td>\n",
       "      <td>7.9250</td>\n",
       "      <td>Southampton</td>\n",
       "      <td>yes</td>\n",
       "    </tr>\n",
       "    <tr>\n",
       "      <th>3</th>\n",
       "      <td>Futrelle</td>\n",
       "      <td>Mrs. Jacques Heath (Lily May Peel)</td>\n",
       "      <td>F</td>\n",
       "      <td>35.0</td>\n",
       "      <td>1</td>\n",
       "      <td>53.1000</td>\n",
       "      <td>Southampton</td>\n",
       "      <td>yes</td>\n",
       "    </tr>\n",
       "    <tr>\n",
       "      <th>4</th>\n",
       "      <td>Allen</td>\n",
       "      <td>Mr. William Henry</td>\n",
       "      <td>M</td>\n",
       "      <td>35.0</td>\n",
       "      <td>3</td>\n",
       "      <td>8.0500</td>\n",
       "      <td>Southampton</td>\n",
       "      <td>no</td>\n",
       "    </tr>\n",
       "    <tr>\n",
       "      <th>5</th>\n",
       "      <td>Moran</td>\n",
       "      <td>Mr. James</td>\n",
       "      <td>M</td>\n",
       "      <td>NaN</td>\n",
       "      <td>3</td>\n",
       "      <td>8.4583</td>\n",
       "      <td>Queenstown</td>\n",
       "      <td>no</td>\n",
       "    </tr>\n",
       "    <tr>\n",
       "      <th>6</th>\n",
       "      <td>McCarthy</td>\n",
       "      <td>Mr. Timothy J</td>\n",
       "      <td>M</td>\n",
       "      <td>54.0</td>\n",
       "      <td>1</td>\n",
       "      <td>51.8625</td>\n",
       "      <td>Southampton</td>\n",
       "      <td>no</td>\n",
       "    </tr>\n",
       "    <tr>\n",
       "      <th>7</th>\n",
       "      <td>Palsson</td>\n",
       "      <td>Master Gosta Leonard</td>\n",
       "      <td>M</td>\n",
       "      <td>2.0</td>\n",
       "      <td>3</td>\n",
       "      <td>21.0750</td>\n",
       "      <td>Southampton</td>\n",
       "      <td>no</td>\n",
       "    </tr>\n",
       "    <tr>\n",
       "      <th>8</th>\n",
       "      <td>Johnson</td>\n",
       "      <td>Mrs. Oscar W (Elisabeth Vilhelmina Berg)</td>\n",
       "      <td>F</td>\n",
       "      <td>27.0</td>\n",
       "      <td>3</td>\n",
       "      <td>11.1333</td>\n",
       "      <td>Southampton</td>\n",
       "      <td>yes</td>\n",
       "    </tr>\n",
       "    <tr>\n",
       "      <th>9</th>\n",
       "      <td>Nasser</td>\n",
       "      <td>Mrs. Nicholas (Adele Achem)</td>\n",
       "      <td>F</td>\n",
       "      <td>14.0</td>\n",
       "      <td>2</td>\n",
       "      <td>30.0708</td>\n",
       "      <td>Cherbourg</td>\n",
       "      <td>yes</td>\n",
       "    </tr>\n",
       "    <tr>\n",
       "      <th>...</th>\n",
       "      <td>...</td>\n",
       "      <td>...</td>\n",
       "      <td>...</td>\n",
       "      <td>...</td>\n",
       "      <td>...</td>\n",
       "      <td>...</td>\n",
       "      <td>...</td>\n",
       "      <td>...</td>\n",
       "    </tr>\n",
       "    <tr>\n",
       "      <th>881</th>\n",
       "      <td>Markun</td>\n",
       "      <td>Mr. Johann</td>\n",
       "      <td>M</td>\n",
       "      <td>33.0</td>\n",
       "      <td>3</td>\n",
       "      <td>7.8958</td>\n",
       "      <td>Southampton</td>\n",
       "      <td>no</td>\n",
       "    </tr>\n",
       "    <tr>\n",
       "      <th>882</th>\n",
       "      <td>Dahlberg</td>\n",
       "      <td>Miss Gerda Ulrika</td>\n",
       "      <td>F</td>\n",
       "      <td>22.0</td>\n",
       "      <td>3</td>\n",
       "      <td>10.5167</td>\n",
       "      <td>Southampton</td>\n",
       "      <td>no</td>\n",
       "    </tr>\n",
       "    <tr>\n",
       "      <th>883</th>\n",
       "      <td>Banfield</td>\n",
       "      <td>Mr. Frederick James</td>\n",
       "      <td>M</td>\n",
       "      <td>28.0</td>\n",
       "      <td>2</td>\n",
       "      <td>10.5000</td>\n",
       "      <td>Southampton</td>\n",
       "      <td>no</td>\n",
       "    </tr>\n",
       "    <tr>\n",
       "      <th>884</th>\n",
       "      <td>Sutehall</td>\n",
       "      <td>Mr. Henry Jr</td>\n",
       "      <td>M</td>\n",
       "      <td>25.0</td>\n",
       "      <td>3</td>\n",
       "      <td>7.0500</td>\n",
       "      <td>Southampton</td>\n",
       "      <td>no</td>\n",
       "    </tr>\n",
       "    <tr>\n",
       "      <th>885</th>\n",
       "      <td>Rice</td>\n",
       "      <td>Mrs. William (Margaret Norton)</td>\n",
       "      <td>F</td>\n",
       "      <td>39.0</td>\n",
       "      <td>3</td>\n",
       "      <td>29.1250</td>\n",
       "      <td>Queenstown</td>\n",
       "      <td>no</td>\n",
       "    </tr>\n",
       "    <tr>\n",
       "      <th>886</th>\n",
       "      <td>Montvila</td>\n",
       "      <td>Rev. Juozas</td>\n",
       "      <td>M</td>\n",
       "      <td>27.0</td>\n",
       "      <td>2</td>\n",
       "      <td>13.0000</td>\n",
       "      <td>Southampton</td>\n",
       "      <td>no</td>\n",
       "    </tr>\n",
       "    <tr>\n",
       "      <th>887</th>\n",
       "      <td>Graham</td>\n",
       "      <td>Miss Margaret Edith</td>\n",
       "      <td>F</td>\n",
       "      <td>19.0</td>\n",
       "      <td>1</td>\n",
       "      <td>30.0000</td>\n",
       "      <td>Southampton</td>\n",
       "      <td>yes</td>\n",
       "    </tr>\n",
       "    <tr>\n",
       "      <th>888</th>\n",
       "      <td>Johnston</td>\n",
       "      <td>Miss Catherine Helen \"Carrie\"</td>\n",
       "      <td>F</td>\n",
       "      <td>NaN</td>\n",
       "      <td>3</td>\n",
       "      <td>23.4500</td>\n",
       "      <td>Southampton</td>\n",
       "      <td>no</td>\n",
       "    </tr>\n",
       "    <tr>\n",
       "      <th>889</th>\n",
       "      <td>Behr</td>\n",
       "      <td>Mr. Karl Howell</td>\n",
       "      <td>M</td>\n",
       "      <td>26.0</td>\n",
       "      <td>1</td>\n",
       "      <td>30.0000</td>\n",
       "      <td>Cherbourg</td>\n",
       "      <td>yes</td>\n",
       "    </tr>\n",
       "    <tr>\n",
       "      <th>890</th>\n",
       "      <td>Dooley</td>\n",
       "      <td>Mr. Patrick</td>\n",
       "      <td>M</td>\n",
       "      <td>32.0</td>\n",
       "      <td>3</td>\n",
       "      <td>7.7500</td>\n",
       "      <td>Queenstown</td>\n",
       "      <td>no</td>\n",
       "    </tr>\n",
       "  </tbody>\n",
       "</table>\n",
       "<p>891 rows × 8 columns</p>\n",
       "</div>"
      ],
      "text/plain": [
       "          last                                       first gender   age  \\\n",
       "0       Braund                             Mr. Owen Harris      M  22.0   \n",
       "1      Cumings  Mrs. John Bradley (Florence Briggs Thayer)      F  38.0   \n",
       "2    Heikkinen                                  Miss Laina      F  26.0   \n",
       "3     Futrelle          Mrs. Jacques Heath (Lily May Peel)      F  35.0   \n",
       "4        Allen                           Mr. William Henry      M  35.0   \n",
       "5        Moran                                   Mr. James      M   NaN   \n",
       "6     McCarthy                               Mr. Timothy J      M  54.0   \n",
       "7      Palsson                        Master Gosta Leonard      M   2.0   \n",
       "8      Johnson    Mrs. Oscar W (Elisabeth Vilhelmina Berg)      F  27.0   \n",
       "9       Nasser                 Mrs. Nicholas (Adele Achem)      F  14.0   \n",
       "..         ...                                         ...    ...   ...   \n",
       "881     Markun                                  Mr. Johann      M  33.0   \n",
       "882   Dahlberg                           Miss Gerda Ulrika      F  22.0   \n",
       "883   Banfield                         Mr. Frederick James      M  28.0   \n",
       "884   Sutehall                                Mr. Henry Jr      M  25.0   \n",
       "885       Rice              Mrs. William (Margaret Norton)      F  39.0   \n",
       "886   Montvila                                 Rev. Juozas      M  27.0   \n",
       "887     Graham                         Miss Margaret Edith      F  19.0   \n",
       "888   Johnston               Miss Catherine Helen \"Carrie\"      F   NaN   \n",
       "889       Behr                             Mr. Karl Howell      M  26.0   \n",
       "890     Dooley                                 Mr. Patrick      M  32.0   \n",
       "\n",
       "     class     fare     embarked survived  \n",
       "0        3   7.2500  Southampton       no  \n",
       "1        1  71.2833    Cherbourg      yes  \n",
       "2        3   7.9250  Southampton      yes  \n",
       "3        1  53.1000  Southampton      yes  \n",
       "4        3   8.0500  Southampton       no  \n",
       "5        3   8.4583   Queenstown       no  \n",
       "6        1  51.8625  Southampton       no  \n",
       "7        3  21.0750  Southampton       no  \n",
       "8        3  11.1333  Southampton      yes  \n",
       "9        2  30.0708    Cherbourg      yes  \n",
       "..     ...      ...          ...      ...  \n",
       "881      3   7.8958  Southampton       no  \n",
       "882      3  10.5167  Southampton       no  \n",
       "883      2  10.5000  Southampton       no  \n",
       "884      3   7.0500  Southampton       no  \n",
       "885      3  29.1250   Queenstown       no  \n",
       "886      2  13.0000  Southampton       no  \n",
       "887      1  30.0000  Southampton      yes  \n",
       "888      3  23.4500  Southampton       no  \n",
       "889      1  30.0000    Cherbourg      yes  \n",
       "890      3   7.7500   Queenstown       no  \n",
       "\n",
       "[891 rows x 8 columns]"
      ]
     },
     "execution_count": 85,
     "metadata": {},
     "output_type": "execute_result"
    }
   ],
   "source": [
    "# Read the Titanic data into a dataframe\n",
    "f = open('Titanic.csv')\n",
    "titanicDF = pd.read_csv(f)\n",
    "titanicDF"
   ]
  },
  {
   "cell_type": "code",
   "execution_count": 174,
   "metadata": {},
   "outputs": [
    {
     "data": {
      "text/plain": [
       "33"
      ]
     },
     "execution_count": 174,
     "metadata": {},
     "output_type": "execute_result"
    }
   ],
   "source": [
    "# Quantas mulheres casadas embarcaram em Cherbourg?\n",
    "# Nota: 'first' é uma função no Pandas, então 'titanic.first' irá gerar um erro;\n",
    "# use 'titanic[' first ']\n",
    "\n",
    "# Filtrar os passageiros, selecionando os que contêm no seu nome \"Mrs.\" (mulheres casadas).\n",
    "Mrs = titanicDF[titanicDF['first'].str.contains('Mrs.')]\n",
    "# Filtrar as mulheres casadas, selecionando as que embarcaram em Cherbourg.\n",
    "Cherbourg = Mrs[Mrs.embarked.str.contains('Cherbourg')]\n",
    "# Imprimir o números requeridos. \n",
    "print(len(Cherbourg))"
   ]
  },
  {
   "cell_type": "code",
   "execution_count": 175,
   "metadata": {},
   "outputs": [
    {
     "name": "stdout",
     "output_type": "stream",
     "text": [
      "Southampton: 27.243651393188795 - Cherbourg: 59.95414404761905 - Queenstown: 13.276029870129872\n"
     ]
    }
   ],
   "source": [
    "# Liste a tarifa média paga pelos passageiros em cada uma das cidades de embarque.\n",
    "\n",
    "# Agrupar os passageiros pela àrea onde embarcaram.\n",
    "Mtarifa = titanicDF.groupby('embarked')\n",
    "# Criar a fórmula da média para as tarifas.\n",
    "Mean = Mtarifa['fare'].mean()\n",
    "# Calcular e imprimir a média das tarifas por cidade de embarque.\n",
    "print('Southampton: {sou} - Cherbourg: {che} - Queenstown: {que}'.format(sou=Mean.loc['Southampton'],che=Mean.loc['Cherbourg'], que=Mean.loc['Queenstown']))"
   ]
  },
  {
   "cell_type": "code",
   "execution_count": 190,
   "metadata": {},
   "outputs": [
    {
     "name": "stdout",
     "output_type": "stream",
     "text": [
      "0.19865319865319866\n"
     ]
    }
   ],
   "source": [
    "# Os valores inexistentes (missing)  no Pandas são nulos (null), impressos como 'NaN' e\n",
    "# a function pd.isnull(v) verifica se um valor é nulo.\n",
    "# Que fração dos passageiros não tem valor para a idade?\n",
    "\n",
    "# Aplicar a função pd.insull() para verificar os valores nulos.\n",
    "age_missing = pd.isnull(titanicDF[\"age\"])\n",
    "# Calcular a relação entre os passageiros com idade nula, e o número total de passageiros.\n",
    "Racio = len(titanicDF[age_missing])/len(titanicDF.age)\n",
    "# Imprimir o resultado.\n",
    "print(Racio)"
   ]
  },
  {
   "cell_type": "code",
   "execution_count": null,
   "metadata": {},
   "outputs": [],
   "source": []
  }
 ],
 "metadata": {
  "kernelspec": {
   "display_name": "Python 3",
   "language": "python",
   "name": "python3"
  },
  "language_info": {
   "codemirror_mode": {
    "name": "ipython",
    "version": 3
   },
   "file_extension": ".py",
   "mimetype": "text/x-python",
   "name": "python",
   "nbconvert_exporter": "python",
   "pygments_lexer": "ipython3",
   "version": "3.7.6"
  }
 },
 "nbformat": 4,
 "nbformat_minor": 1
}
